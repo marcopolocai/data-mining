{
 "cells": [
  {
   "cell_type": "markdown",
   "metadata": {},
   "source": [
    "# Predicting Individual's Salary"
   ]
  },
  {
   "cell_type": "markdown",
   "metadata": {},
   "source": [
    "**To be completed INDIVIDUALLY and due on March 31 at 3 pm.**"
   ]
  },
  {
   "cell_type": "markdown",
   "metadata": {},
   "source": [
    "In this assignment, we will work on [US census data](http://www.google.com/url?q=http%3A%2F%2Fpoloclub.gatech.edu%2Fcse6242%2F2014fall%2Fhw4%2Fhw4-task1-data.tsv&sa=D&sntz=1&usg=AFQjCNGp2K-9_NTjdjqwi627u3kPcszXqw). The goal is to determine whether a person makes over $50K. The dataset was extracted from the 1994 US census data. You can find the details of the dataset [here](http://www.google.com/url?q=http%3A%2F%2Fpoloclub.gatech.edu%2Fcse6242%2F2014fall%2Fhw4%2Fhw4-task1-attributes.txt&sa=D&sntz=1&usg=AFQjCNEBbQwdw2e0dPqWhuQkomlP9hnDtw). The data is stored in a tab separated value file,  and each line represents a person."
   ]
  },
  {
   "cell_type": "markdown",
   "metadata": {},
   "source": [
    "This dataset contains categorical values. Most of the algorithms we learn in class can only handle numeric values and so we need to create a new variable (dummy variable) for every unique value of the categorical variables. To convert the categorical variable into dummy/indicator variables, we will use pandas.get_dummies. Here is an example on how to convert categorical variables to dummy variables:"
   ]
  },
  {
   "cell_type": "code",
   "execution_count": 1,
   "metadata": {
    "collapsed": false
   },
   "outputs": [
    {
     "data": {
      "text/html": [
       "<div>\n",
       "<table border=\"1\" class=\"dataframe\">\n",
       "  <thead>\n",
       "    <tr style=\"text-align: right;\">\n",
       "      <th></th>\n",
       "      <th>age</th>\n",
       "      <th>salary</th>\n",
       "      <th>edu_Bachelor</th>\n",
       "      <th>edu_Jd</th>\n",
       "      <th>edu_Masters</th>\n",
       "      <th>edu_PhD</th>\n",
       "    </tr>\n",
       "  </thead>\n",
       "  <tbody>\n",
       "    <tr>\n",
       "      <th>0</th>\n",
       "      <td>23</td>\n",
       "      <td>60000</td>\n",
       "      <td>1</td>\n",
       "      <td>0</td>\n",
       "      <td>0</td>\n",
       "      <td>0</td>\n",
       "    </tr>\n",
       "    <tr>\n",
       "      <th>1</th>\n",
       "      <td>62</td>\n",
       "      <td>100000</td>\n",
       "      <td>0</td>\n",
       "      <td>0</td>\n",
       "      <td>1</td>\n",
       "      <td>0</td>\n",
       "    </tr>\n",
       "    <tr>\n",
       "      <th>2</th>\n",
       "      <td>31</td>\n",
       "      <td>120000</td>\n",
       "      <td>0</td>\n",
       "      <td>0</td>\n",
       "      <td>0</td>\n",
       "      <td>1</td>\n",
       "    </tr>\n",
       "    <tr>\n",
       "      <th>3</th>\n",
       "      <td>48</td>\n",
       "      <td>150000</td>\n",
       "      <td>0</td>\n",
       "      <td>1</td>\n",
       "      <td>0</td>\n",
       "      <td>0</td>\n",
       "    </tr>\n",
       "    <tr>\n",
       "      <th>4</th>\n",
       "      <td>59</td>\n",
       "      <td>95000</td>\n",
       "      <td>0</td>\n",
       "      <td>0</td>\n",
       "      <td>1</td>\n",
       "      <td>0</td>\n",
       "    </tr>\n",
       "  </tbody>\n",
       "</table>\n",
       "</div>"
      ],
      "text/plain": [
       "   age  salary  edu_Bachelor  edu_Jd  edu_Masters  edu_PhD\n",
       "0   23   60000             1       0            0        0\n",
       "1   62  100000             0       0            1        0\n",
       "2   31  120000             0       0            0        1\n",
       "3   48  150000             0       1            0        0\n",
       "4   59   95000             0       0            1        0"
      ]
     },
     "execution_count": 1,
     "metadata": {},
     "output_type": "execute_result"
    }
   ],
   "source": [
    "import pandas as pd\n",
    "raw_data = {'age': [23, 62, 31, 48, 59],\n",
    "        'salary': [60000, 100000, 120000, 150000, 95000],\n",
    "        'education': ['Bachelor', 'Masters', 'PhD', 'Jd', 'Masters']}\n",
    "df = pd.DataFrame(raw_data, columns = ['age', 'salary', 'education'])\n",
    "df_edu = pd.get_dummies(df['education'], prefix = 'edu')\n",
    "df_new = pd.concat([df, df_edu], axis=1)\n",
    "df_new = df_new.drop( ['education'], axis = 1 )\n",
    "df_new"
   ]
  },
  {
   "cell_type": "markdown",
   "metadata": {},
   "source": [
    "Now your job is to convert all categorical features in the dataset to indicator variables.\n",
    "\n",
    "**(10 pts)**"
   ]
  },
  {
   "cell_type": "code",
   "execution_count": null,
   "metadata": {
    "collapsed": true
   },
   "outputs": [],
   "source": []
  },
  {
   "cell_type": "markdown",
   "metadata": {},
   "source": [
    "Now that we know how to convert categorical variables to numerical dummy variables, we can use the algorithms we learned in the class. For the first part, we will use KNeighborsClassifier.\n",
    "\n",
    "KNeighborsClassifier is an instant-based classification which simply stores instances of the training data. Classification is computed from a simple majority vote of the nearest neighbors of each point.\n",
    "\n",
    "Report the accuracy of your prediction.\n",
    "\n",
    "**(20 pts)**"
   ]
  },
  {
   "cell_type": "code",
   "execution_count": null,
   "metadata": {
    "collapsed": true
   },
   "outputs": [],
   "source": [
    "from sklearn.neighbors import KNeighborsClassifier"
   ]
  },
  {
   "cell_type": "markdown",
   "metadata": {},
   "source": [
    "For this part of the homework, we will use [Decision Trees](http://scikit-learn.org/stable/modules/tree.html) to determine a person makes over $50K. Report accuracy score using decision trees. \n",
    "\n",
    "Compare your results with the results you obtained in Part 1.\n",
    "\n",
    "**(20 pts)**\n"
   ]
  },
  {
   "cell_type": "code",
   "execution_count": null,
   "metadata": {
    "collapsed": true
   },
   "outputs": [],
   "source": [
    "from sklearn import tree"
   ]
  },
  {
   "cell_type": "markdown",
   "metadata": {},
   "source": [
    "----------"
   ]
  }
 ],
 "metadata": {
  "anaconda-cloud": {},
  "kernelspec": {
   "display_name": "Python 2",
   "language": "python",
   "name": "python2"
  },
  "language_info": {
   "codemirror_mode": {
    "name": "ipython",
    "version": 2
   },
   "file_extension": ".py",
   "mimetype": "text/x-python",
   "name": "python",
   "nbconvert_exporter": "python",
   "pygments_lexer": "ipython2",
   "version": "2.7.11"
  }
 },
 "nbformat": 4,
 "nbformat_minor": 0
}
